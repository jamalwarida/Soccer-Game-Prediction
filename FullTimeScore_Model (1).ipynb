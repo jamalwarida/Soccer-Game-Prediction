{
  "nbformat": 4,
  "nbformat_minor": 0,
  "metadata": {
    "colab": {
      "name": "FullTimeScore_Model.ipynb",
      "version": "0.3.2",
      "provenance": []
    },
    "kernelspec": {
      "name": "python3",
      "display_name": "Python 3"
    },
    "accelerator": "GPU"
  },
  "cells": [
    {
      "metadata": {
        "id": "zAHe5qWIc9xy",
        "colab_type": "code",
        "colab": {}
      },
      "cell_type": "code",
      "source": [
        "import pandas as pd\n",
        "import numpy as np\n",
        "import sys\n",
        "import math\n",
        "import csv\n",
        "import urllib\n",
        "import collections\n",
        "import sklearn\n",
        "from sklearn import datasets\n",
        "from sklearn.feature_selection import RFE\n",
        "from sklearn.linear_model import LogisticRegression\n",
        "from sklearn import metrics\n",
        "from sklearn.ensemble import ExtraTreesClassifier\n",
        "from sklearn import svm\n",
        "from sklearn.svm import SVC\n",
        "from sklearn.svm import LinearSVC\n",
        "from sklearn import linear_model\n",
        "from sklearn import tree\n",
        "from sklearn.neighbors import KNeighborsClassifier\n",
        "from sklearn.ensemble import GradientBoostingRegressor\n",
        "from sklearn.ensemble import GradientBoostingClassifier\n",
        "from sklearn.ensemble import RandomForestClassifier\n",
        "from sklearn.ensemble import AdaBoostClassifier\n",
        "from sklearn.metrics import classification_report"
      ],
      "execution_count": 0,
      "outputs": []
    },
    {
      "metadata": {
        "id": "DwL8sDjynutu",
        "colab_type": "code",
        "colab": {}
      },
      "cell_type": "code",
      "source": [
        "#Import Data Files\n",
        "EPL_data = pd.read_csv('Training_Data.csv')\n",
        "team_names = pd.read_csv('Team_Names.csv')\n",
        "team_names.tail()\n",
        "teamList = team_names['Team_Name'].tolist()\n",
        "test_data = pd.read_csv('Test_Results.csv')\n"
      ],
      "execution_count": 0,
      "outputs": []
    },
    {
      "metadata": {
        "id": "d330Acg0HzZk",
        "colab_type": "code",
        "colab": {}
      },
      "cell_type": "code",
      "source": [
        "def getAnnualTeamData(teamName, year):\n",
        "    \n",
        "    annual_data = EPL_data[EPL_data['Year'] == year]\n",
        "    \n",
        "    # num goals scored in wins and losses\n",
        "    gamesHome = annual_data[annual_data['HomeTeam'] == teamName] \n",
        "    totalGoalsScored = gamesHome['FTHG'].sum()\n",
        "    gamesAway = annual_data[annual_data['AwayTeam'] == teamName]\n",
        "    totalGames = gamesHome.append(gamesAway)\n",
        "    numGames = len(totalGames.index)\n",
        "    #total goals scored\n",
        "    totalGoalsScored += gamesAway['FTAG'].sum()\n",
        "    # total goals allowed\n",
        "    totalGoalsAllowed = gamesHome['FTAG'].sum()\n",
        "    totalGoalsAllowed += gamesAway['FTHG'].sum()\n",
        "    \n",
        "    #discipline: total red cards, total yellow cards\n",
        "    totalYellowCards = gamesHome['HY'].sum()\n",
        "    totalYellowCards += gamesAway['AY'].sum()\n",
        "    totalRedCards = gamesHome['HR'].sum()\n",
        "    totalRedCards += gamesAway['AR'].sum()\n",
        "    \n",
        "    #total fouls\n",
        "    totalFouls = gamesHome['HF'].sum()\n",
        "    totalFouls += gamesAway['AF'].sum()\n",
        "    \n",
        "    #total Corners\n",
        "    totalCorners = gamesHome['HC'].sum()\n",
        "    totalCorners += gamesAway['AC'].sum()\n",
        "\n",
        "    #shots per game (spg)\n",
        "    totalShots = gamesHome['HS'].sum()\n",
        "    # avg shots per game\n",
        "    totalShots += gamesAway['AS'].sum()\n",
        "    if numGames != 0:\n",
        "        spg = totalShots / numGames\n",
        "    # avg shots allowed per game\n",
        "    totalShotsAgainst = gamesHome['AS'].sum()\n",
        "    totalShotsAgainst += gamesAway['HS'].sum()\n",
        "    if numGames != 0:\n",
        "        sag = totalShotsAgainst / numGames\n",
        "    \n",
        "    #Games Won Percentage\n",
        "    gamesWon = annual_data[annual_data['Winner'] == teamName] \n",
        "    gamesLost = annual_data[annual_data['Loser'] == teamName] \n",
        "    numGamesWon = len(gamesWon.index)\n",
        "    numGamesLost = len(gamesLost.index)\n",
        "    if numGames != 0:\n",
        "        gamesWonPercentage = numGamesWon / numGames\n",
        "        #Goalie Saves\n",
        "    totalShotsOnGoal = gamesHome['HST'].sum()\n",
        "    totalShotsOnGoal += gamesAway['AST'].sum()\n",
        "    goalieSaves = totalShotsOnGoal - totalGoalsAllowed    \n",
        "        #Saves Percentage   \n",
        "    if totalShotsOnGoal != 0:\n",
        "        savesPercentage = goalieSaves / totalShotsOnGoal        \n",
        "        #Saves Ratio  \n",
        "    if goalieSaves != 0:\n",
        "        savesRatio = totalShotsOnGoal / goalieSaves\n",
        "        #Scoring Percentage\n",
        "    if totalShots != 0:\n",
        "        scoringPercentage = (totalShots - totalGoalsScored) / totalShots\n",
        "       #Scoring Ratio\n",
        "    if totalGoalsScored != 0:\n",
        "        scoringRatio = totalShotsOnGoal / totalGoalsScored       \n",
        "        \n",
        "            \n",
        "    if numGames == 0: \n",
        "        gamesWon = 0\n",
        "        gamesLost = 0\n",
        "        totalGoalsScored = 0\n",
        "        totalGoalsAllowed = 0\n",
        "        totalYellowCards = 0\n",
        "        totalRedCards = 0\n",
        "        totalFouls = 0\n",
        "        totalCorners = 0\n",
        "        spg = 0\n",
        "        sag = 0\n",
        "        gamesWonPercentage = 0\n",
        "        goalieSaves = 0\n",
        "        savesPercentage = 0\n",
        "        savesRatio = 0\n",
        "        scoringPercentage = 0\n",
        "        scoringRatio = 0 \n",
        "        \n",
        "    return [totalGoalsScored, totalGoalsAllowed, totalYellowCards, totalRedCards,\n",
        "        totalFouls,totalCorners, spg, sag, gamesWonPercentage, goalieSaves, savesPercentage, savesRatio,\n",
        "        scoringPercentage, scoringRatio]"
      ],
      "execution_count": 0,
      "outputs": []
    },
    {
      "metadata": {
        "id": "A7PXOJaQEPbZ",
        "colab_type": "code",
        "colab": {}
      },
      "cell_type": "code",
      "source": [
        "def createAnnualDict(year):\n",
        "    annualDictionary = collections.defaultdict(list)\n",
        "    for team in teamList:\n",
        "        team_vector = getAnnualTeamData(team, year)\n",
        "        annualDictionary[team] = team_vector\n",
        "    return annualDictionary"
      ],
      "execution_count": 0,
      "outputs": []
    },
    {
      "metadata": {
        "id": "tE3WmNQCEUg3",
        "colab_type": "code",
        "colab": {}
      },
      "cell_type": "code",
      "source": [
        "def getTrainingData(years):\n",
        "    totalNumGames = 0\n",
        "    for year in years:\n",
        "        annual = EPL_data[EPL_data['Year'] == year]\n",
        "        totalNumGames += len(annual.index)\n",
        "    numFeatures = len(getAnnualTeamData('Arsenal',2015))\n",
        "    xTrain = np.zeros(( totalNumGames, numFeatures))\n",
        "    yTrain = np.zeros(( totalNumGames ))\n",
        "    indexCounter = 0\n",
        "    for year in years:\n",
        "        team_vectors = createAnnualDict(year)\n",
        "        annual = EPL_data[EPL_data['Year'] == year]\n",
        "        numGamesInYear = len(annual.index)\n",
        "        xTrainAnnual = np.zeros(( numGamesInYear, numFeatures))\n",
        "        yTrainAnnual = np.zeros(( numGamesInYear ))\n",
        "        counter = 0\n",
        "        for index, row in annual.iterrows():\n",
        "            h_team = row['HomeTeam']\n",
        "            h_vector = team_vectors[h_team]\n",
        "            a_team = row['AwayTeam']\n",
        "            a_vector = team_vectors[a_team]\n",
        "            diff = [a - b for a, b in zip(h_vector, a_vector)]\n",
        "            if (counter % 2 == 0):\n",
        "                if len(diff) != 0:\n",
        "                    xTrainAnnual[counter] = diff\n",
        "                yTrainAnnual[counter] = 1\n",
        "            else:\n",
        "                if len(diff) != 0:\n",
        "                    xTrainAnnual[counter] = [ -p for p in diff]\n",
        "                yTrainAnnual[counter] = 0\n",
        "            counter += 1\n",
        "        xTrain[indexCounter:numGamesInYear+indexCounter] = xTrainAnnual\n",
        "        yTrain[indexCounter:numGamesInYear+indexCounter] = yTrainAnnual\n",
        "        indexCounter += numGamesInYear\n",
        "    return xTrain, yTrain"
      ],
      "execution_count": 0,
      "outputs": []
    },
    {
      "metadata": {
        "id": "Pdgm9jCREVS-",
        "colab_type": "code",
        "colab": {}
      },
      "cell_type": "code",
      "source": [
        "# Create data library from 2012-2016\n",
        "years = range(2012,2016)\n",
        "xTrain, yTrain = getTrainingData(years)\n",
        "np.save('xTrain', xTrain)\n",
        "np.save('yTrain', yTrain)"
      ],
      "execution_count": 0,
      "outputs": []
    },
    {
      "metadata": {
        "id": "5vnEVTASE9rB",
        "colab_type": "code",
        "outputId": "c5d56f61-b3cc-4dd4-8f01-51d2b52c2e05",
        "colab": {
          "base_uri": "https://localhost:8080/",
          "height": 68
        }
      },
      "cell_type": "code",
      "source": [
        "from sklearn import linear_model\n",
        "lm = linear_model.LinearRegression()\n",
        "from sklearn.model_selection import train_test_split\n",
        "xTrain, X_test, yTrain, y_test = train_test_split(xTrain, yTrain)\n",
        "print(xTrain.shape, yTrain.shape)\n",
        "print(X_test.shape, y_test.shape)\n",
        "model2 = lm.fit(xTrain, yTrain)\n",
        "predictions = lm.predict(X_test)\n",
        "print(sum(predictions)/len(predictions))\n"
      ],
      "execution_count": 0,
      "outputs": [
        {
          "output_type": "stream",
          "text": [
            "(535, 14) (535,)\n",
            "(179, 14) (179,)\n",
            "0.5075471683289128\n"
          ],
          "name": "stdout"
        }
      ]
    },
    {
      "metadata": {
        "id": "cQegw6xLE_8W",
        "colab_type": "code",
        "colab": {}
      },
      "cell_type": "code",
      "source": [
        "def createGamePrediction(team1_vector, team2_vector, xTrain, yTrain):\n",
        "    xTrain, X_test, yTrain, Y_test = train_test_split(xTrain, yTrain)\n",
        "    xTrain.shape, yTrain.shape\n",
        "    X_test.shape, y_test.shape\n",
        "    lm = linear_model.LinearRegression()\n",
        "    model2 = lm.fit(xTrain, yTrain)\n",
        "    diff = [a - b for a, b in zip(team1_vector, team2_vector)]\n",
        "    diff = np.asarray(diff)\n",
        "    prediction = lm.predict(diff.reshape(1,-1))\n",
        "    return prediction"
      ],
      "execution_count": 0,
      "outputs": []
    },
    {
      "metadata": {
        "id": "cWsqDTqYGeQ6",
        "colab_type": "code",
        "colab": {}
      },
      "cell_type": "code",
      "source": [
        "def formulatePredictions():\n",
        "    probs = [[0 for x in range(2)] for x in range(len(test_data.index))]\n",
        "    for index, row in test_data.iterrows():\n",
        "        game_ID = row['Game_ID']\n",
        "        year = row['Year'] - 1\n",
        "        team1_Name = row['HomeTeam']\n",
        "        team2_Name = row['AwayTeam']\n",
        "        team1_vector = getAnnualTeamData(team1_Name, year)\n",
        "        team2_vector = getAnnualTeamData(team2_Name, year)\n",
        "        prediction = createGamePrediction(team1_vector, team2_vector,xTrain, yTrain)\n",
        "        probs[index][0] = game_ID\n",
        "        probs[index][1] = prediction\n",
        "    probs = pd.np.array(probs)\n",
        "    return probs"
      ],
      "execution_count": 0,
      "outputs": []
    },
    {
      "metadata": {
        "id": "AIf1mfnB9odm",
        "colab_type": "code",
        "outputId": "3448ffd7-9793-4525-c9b6-3cc4d8911069",
        "colab": {
          "base_uri": "https://localhost:8080/",
          "height": 153
        }
      },
      "cell_type": "code",
      "source": [
        "print(test_data)"
      ],
      "execution_count": 0,
      "outputs": [
        {
          "output_type": "stream",
          "text": [
            "   Game_ID  Year       Date     HomeTeam        AwayTeam\n",
            "0        1  2017  11-Feb-17    Liverpool       Tottenham\n",
            "1        2  2017  11-Feb-17   Man United         Watford\n",
            "2        3  2017  11-Feb-17        Stoke  Crystal Palace\n",
            "3        4  2017  11-Feb-17     West Ham       West Brom\n",
            "4        5  2017  12-Feb-17      Burnley         Chelsea\n",
            "5        6  2017  12-Feb-17      Swansea       Leicester\n",
            "6        7  2017  13-Feb-17  Bournemouth        Man City\n"
          ],
          "name": "stdout"
        }
      ]
    },
    {
      "metadata": {
        "id": "jcdRzjqmGgLE",
        "colab_type": "code",
        "outputId": "38c641ec-9f57-43bf-eef5-90323a484578",
        "colab": {
          "base_uri": "https://localhost:8080/",
          "height": 136
        }
      },
      "cell_type": "code",
      "source": [
        "# Running prediction model on test data\n",
        "formulatePredictions()"
      ],
      "execution_count": 0,
      "outputs": [
        {
          "output_type": "execute_result",
          "data": {
            "text/plain": [
              "array([[1, array([0.41176738])],\n",
              "       [2, array([0.5340199])],\n",
              "       [3, array([0.48241013])],\n",
              "       [4, array([0.46993713])],\n",
              "       [5, array([0.82550101])],\n",
              "       [6, array([0.53942104])],\n",
              "       [7, array([0.62162685])]], dtype=object)"
            ]
          },
          "metadata": {
            "tags": []
          },
          "execution_count": 11
        }
      ]
    }
  ]
}